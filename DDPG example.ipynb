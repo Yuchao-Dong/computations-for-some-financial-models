{
 "cells": [
  {
   "cell_type": "code",
   "execution_count": 1,
   "metadata": {},
   "outputs": [],
   "source": [
    "import torch\n",
    "import torch.nn.functional as F\n",
    "import random\n",
    "from collections import deque\n",
    "import gym\n",
    "import numpy as np\n",
    "import torch.autograd\n",
    "from torch.autograd import Variable\n",
    "import sys\n",
    "import matplotlib.pyplot as plt"
   ]
  },
  {
   "cell_type": "code",
   "execution_count": 2,
   "metadata": {},
   "outputs": [],
   "source": [
    "class critic(torch.nn.Module):\n",
    "    def __init__(self,input_size,hidden_size,output_size):\n",
    "        super(critic,self).__init__()\n",
    "        self.linear1=torch.nn.Linear(input_size,hidden_size)\n",
    "        self.linear2=torch.nn.Linear(hidden_size,hidden_size)\n",
    "        self.linear3=torch.nn.Linear(hidden_size,output_size)\n",
    "        \n",
    "    def forward(self,state,action):\n",
    "        x=torch.cat([state,action],1)\n",
    "        x=F.relu(self.linear1(x))\n",
    "        x=F.relu(self.linear2(x))\n",
    "        x=self.linear3(x)\n",
    "        return x\n",
    "        "
   ]
  },
  {
   "cell_type": "code",
   "execution_count": 3,
   "metadata": {},
   "outputs": [],
   "source": [
    "class actor(torch.nn.Module):\n",
    "    def __init__(self,input_size,hidden_size,output_size):\n",
    "        super(actor,self).__init__()\n",
    "        self.linear1=torch.nn.Linear(input_size,hidden_size)\n",
    "        self.linear2=torch.nn.Linear(hidden_size,hidden_size)\n",
    "        self.linear3=torch.nn.Linear(hidden_size,output_size)\n",
    "        \n",
    "    def forward(self,state):\n",
    "        x=F.relu(self.linear1(state))\n",
    "        x=F.relu(self.linear2(x))\n",
    "        x=torch.tanh(self.linear3(x))\n",
    "        return x"
   ]
  },
  {
   "cell_type": "code",
   "execution_count": 4,
   "metadata": {},
   "outputs": [],
   "source": [
    "class memory():\n",
    "    def __init__(self,max_size):\n",
    "        self.buffer=deque(maxlen=max_size)\n",
    "    def push(self,state,action,reward,next_state,done):\n",
    "        experience=(state,action,np.array([reward]),next_state,done)\n",
    "        self.buffer.append(experience)\n",
    "    def sample(self,batch_size):\n",
    "        state_batch=[]\n",
    "        action_batch=[]\n",
    "        reward_batch=[]\n",
    "        next_state_batch=[]\n",
    "        done_batch=[]\n",
    "        batch=random.sample(self.buffer,batch_size)\n",
    "        for experience in batch:\n",
    "            state,action,reward,next_state,done=experience\n",
    "            state_batch.append(state)\n",
    "            action_batch.append(action)\n",
    "            reward_batch.append(reward)\n",
    "            next_state_batch.append(next_state)\n",
    "            done_batch.append(done)\n",
    "        return state_batch,action_batch,reward_batch,next_state_batch,done_batch\n",
    "    def __len__(self):\n",
    "        return len(self.buffer)"
   ]
  },
  {
   "cell_type": "code",
   "execution_count": 5,
   "metadata": {},
   "outputs": [],
   "source": [
    "class NormalizedEnv(gym.ActionWrapper):\n",
    "     def _action(self, action):\n",
    "        act_k = (self.action_space.high - self.action_space.low)/ 2.\n",
    "        act_b = (self.action_space.high + self.action_space.low)/ 2.\n",
    "        return act_k * action + act_b\n",
    "\n",
    "     def _reverse_action(self, action):\n",
    "        act_k_inv = 2./(self.action_space.high - self.action_space.low)\n",
    "        act_b = (self.action_space.high + self.action_space.low)/ 2.\n",
    "        return act_k_inv * (action - act_b)"
   ]
  },
  {
   "cell_type": "code",
   "execution_count": 6,
   "metadata": {},
   "outputs": [],
   "source": [
    "class OUnoise(object):\n",
    "    def __init__(self,action_space,mu=0.0,theta=1.5,max_sigma=0.3,min_sigma=0.3,decay_period=100000):\n",
    "        self.mu=mu\n",
    "        self.theta=theta\n",
    "        self.sigma=max_sigma\n",
    "        self.max_sigma=max_sigma\n",
    "        self.min_sigma=min_sigma\n",
    "        self.decay_period=decay_period\n",
    "        self.action_dim=action_space.shape[0]\n",
    "        self.low=action_space.low\n",
    "        self.high=action_space.high\n",
    "        self.reset()\n",
    "    def reset(self):\n",
    "        self.state=np.ones(self.action_dim)*self.mu\n",
    "    def evolve_state(self):\n",
    "        x=self.state\n",
    "        dx=self.theta*(self.mu-x)+self.sigma*np.random.randn(self.action_dim)\n",
    "        self.state=x+dx\n",
    "        return self.state\n",
    "    def get_action(self,action,t=0):\n",
    "        ou_state=self.evolve_state()\n",
    "        self.sigma=self.max_sigma-(self.max_sigma-self.min_sigma)*min(1.0,t/self.decay_period)\n",
    "        return np.clip(action+ou_state,self.low,self.high)"
   ]
  },
  {
   "cell_type": "code",
   "execution_count": 7,
   "metadata": {},
   "outputs": [],
   "source": [
    "class DDPGagent(object):\n",
    "    def __init__(self,env,hidden_size=256,actor_lr=1e-3,critic_lr=1e-4,gamma=0.99,tau=1e-2,max_memory_size=50000):\n",
    "        self.num_states=env.observation_space.shape[0]\n",
    "        self.num_actions=env.action_space.shape[0]\n",
    "        self.gamma=gamma\n",
    "        self.tau=tau\n",
    "        self.actor=actor(self.num_states,hidden_size,self.num_actions)\n",
    "        self.actor_target=actor(self.num_states,hidden_size,self.num_actions)\n",
    "        self.critic=critic(self.num_states+self.num_actions,hidden_size,1)\n",
    "        self.critic_target=critic(self.num_states+self.num_actions,hidden_size,1)\n",
    "        for para,target_para in zip(self.actor.parameters(),self.actor_target.parameters()):\n",
    "            target_para.data.copy_(para.data)\n",
    "        for para,target_para in zip(self.critic.parameters(),self.critic_target.parameters()):\n",
    "            target_para.data.copy_(para.data)\n",
    "        self.memory=memory(max_memory_size)\n",
    "        self.critic_criterion=torch.nn.MSELoss()\n",
    "        self.actor_optimizer=torch.optim.Adam(self.actor.parameters(),lr=actor_lr)\n",
    "        self.critic_optimizer=torch.optim.Adam(self.critic.parameters(),lr=critic_lr)\n",
    "    def get_action(self,state):\n",
    "        state=Variable(torch.from_numpy(state).float().unsqueeze(0))\n",
    "        action=self.actor.forward(state)\n",
    "        action=action.detach().numpy()[0,0]\n",
    "        return action\n",
    "    def update(self,batch_size):\n",
    "        states,actions,rewards,next_states,done=self.memory.sample(batch_size)\n",
    "        states=torch.FloatTensor(states)\n",
    "        actions=torch.FloatTensor(actions)\n",
    "        next_states=torch.FloatTensor(next_states)\n",
    "        rewards=torch.FloatTensor(rewards)\n",
    "        Qvals=self.critic.forward(states,actions)\n",
    "        next_actions=self.actor_target.forward(states)\n",
    "        next_Qvals=self.critic_target(next_states,next_actions.detach())\n",
    "        Q_prime=rewards+self.gamma*next_Qvals\n",
    "        critic_loss=self.critic_criterion(Qvals,Q_prime)\n",
    "        policy_loss=-self.critic.forward(states,self.actor.forward(states)).mean()\n",
    "        self.actor_optimizer.zero_grad()\n",
    "        policy_loss.backward()\n",
    "        self.actor_optimizer.step()\n",
    "        self.critic_optimizer.zero_grad()\n",
    "        critic_loss.backward()\n",
    "        self.critic_optimizer.step()\n",
    "        for para,target_para in zip(self.actor.parameters(),self.actor_target.parameters()):\n",
    "            target_para.data.copy_(para.data*self.tau+target_para*(1-self.tau))\n",
    "        for para,target_para in zip(self.critic.parameters(),self.critic_target.parameters()):\n",
    "            target_para.data.copy_(para.data*self.tau+target_para*(1-self.tau))"
   ]
  },
  {
   "cell_type": "code",
   "execution_count": 12,
   "metadata": {},
   "outputs": [],
   "source": [
    "env = gym.make(\"Pendulum-v0\")\n",
    "\n",
    "agent = DDPGagent(env)\n",
    "noise = OUnoise(env.action_space)\n",
    "batch_size = 128\n",
    "rewards = []\n",
    "avg_rewards = []"
   ]
  },
  {
   "cell_type": "code",
   "execution_count": 13,
   "metadata": {},
   "outputs": [
    {
     "data": {
      "text/plain": [
       "Box(1,)"
      ]
     },
     "execution_count": 13,
     "metadata": {},
     "output_type": "execute_result"
    }
   ],
   "source": [
    "env.action_space"
   ]
  },
  {
   "cell_type": "code",
   "execution_count": 10,
   "metadata": {},
   "outputs": [
    {
     "name": "stderr",
     "output_type": "stream",
     "text": [
      "C:\\Users\\MATDY\\AppData\\Local\\Continuum\\anaconda3\\lib\\site-packages\\numpy\\core\\fromnumeric.py:2920: RuntimeWarning: Mean of empty slice.\n",
      "  out=out, **kwargs)\n",
      "C:\\Users\\MATDY\\AppData\\Local\\Continuum\\anaconda3\\lib\\site-packages\\numpy\\core\\_methods.py:85: RuntimeWarning: invalid value encountered in double_scalars\n",
      "  ret = ret.dtype.type(ret / rcount)\n"
     ]
    },
    {
     "name": "stdout",
     "output_type": "stream",
     "text": [
      "episode: 0, reward: -1524.43, average _reward: nan \n",
      "episode: 1, reward: -1444.87, average _reward: -1524.4257740424766 \n",
      "episode: 2, reward: -1727.12, average _reward: -1484.649480138666 \n",
      "episode: 3, reward: -1738.79, average _reward: -1565.472024078551 \n",
      "episode: 4, reward: -1809.7, average _reward: -1608.801149218844 \n",
      "episode: 5, reward: -1737.51, average _reward: -1648.981639810338 \n",
      "episode: 6, reward: -1704.45, average _reward: -1663.7358661088174 \n",
      "episode: 7, reward: -1249.13, average _reward: -1669.5519782379854 \n",
      "episode: 8, reward: -1657.62, average _reward: -1616.9997120799471 \n",
      "episode: 9, reward: -1423.61, average _reward: -1621.512578630559 \n",
      "episode: 10, reward: -1490.88, average _reward: -1601.7227532733136 \n",
      "episode: 11, reward: -1342.46, average _reward: -1598.3681623307316 \n",
      "episode: 12, reward: -1376.2, average _reward: -1588.1268426510592 \n",
      "episode: 13, reward: -1192.85, average _reward: -1553.035086846106 \n",
      "episode: 14, reward: -1384.68, average _reward: -1498.440934821814 \n",
      "episode: 15, reward: -1189.69, average _reward: -1455.93883302651 \n",
      "episode: 16, reward: -1291.37, average _reward: -1401.1568026566656 \n",
      "episode: 17, reward: -1028.27, average _reward: -1359.8490799210108 \n",
      "episode: 18, reward: -1256.19, average _reward: -1337.7626744534878 \n",
      "episode: 19, reward: -1269.64, average _reward: -1297.6200805106605 \n",
      "episode: 20, reward: -1187.62, average _reward: -1282.2229961595117 \n",
      "episode: 21, reward: -1192.64, average _reward: -1251.897421765044 \n",
      "episode: 22, reward: -1205.65, average _reward: -1236.914931147195 \n",
      "episode: 23, reward: -1215.31, average _reward: -1219.8599002518047 \n",
      "episode: 24, reward: -1188.54, average _reward: -1222.1065463408293 \n",
      "episode: 25, reward: -1113.89, average _reward: -1202.4925071297912 \n",
      "episode: 26, reward: -1226.19, average _reward: -1194.9124322594648 \n",
      "episode: 27, reward: -1195.21, average _reward: -1188.3939320690965 \n",
      "episode: 28, reward: -973.36, average _reward: -1205.0879111850095 \n",
      "episode: 29, reward: -1030.46, average _reward: -1176.805220172107 \n",
      "episode: 30, reward: -1004.96, average _reward: -1152.887211473178 \n",
      "episode: 31, reward: -1179.3, average _reward: -1134.620473298222 \n",
      "episode: 32, reward: -1133.53, average _reward: -1133.287234434158 \n",
      "episode: 33, reward: -1167.24, average _reward: -1126.0757453175054 \n",
      "episode: 34, reward: -1141.87, average _reward: -1121.2687438838373 \n",
      "episode: 35, reward: -1214.27, average _reward: -1116.6018218083896 \n",
      "episode: 36, reward: -1278.72, average _reward: -1126.6403881897686 \n",
      "episode: 37, reward: -1333.93, average _reward: -1131.893820051942 \n",
      "episode: 38, reward: -1332.54, average _reward: -1145.7662190540627 \n",
      "episode: 39, reward: -1223.65, average _reward: -1181.6836207530016 \n",
      "episode: 40, reward: -1189.66, average _reward: -1201.0017976085926 \n",
      "episode: 41, reward: -1152.01, average _reward: -1219.4722234217113 \n",
      "episode: 42, reward: -1149.71, average _reward: -1216.7426101712977 \n",
      "episode: 43, reward: -1169.71, average _reward: -1218.3605238886732 \n",
      "episode: 44, reward: -1208.64, average _reward: -1218.6067525229892 \n",
      "episode: 45, reward: -1116.93, average _reward: -1225.2837264226503 \n",
      "episode: 46, reward: -1200.33, average _reward: -1215.5491425219286 \n",
      "episode: 47, reward: -1179.18, average _reward: -1207.7099564942332 \n",
      "episode: 48, reward: -1204.22, average _reward: -1192.234876508018 \n",
      "episode: 49, reward: -1133.25, average _reward: -1179.4028967811691 \n"
     ]
    }
   ],
   "source": [
    "for episode in range(50):\n",
    "    state=env.reset()\n",
    "    noise.reset()\n",
    "    episode_reward=0\n",
    "    for step in range(500):\n",
    "        action=agent.get_action(state)\n",
    "        action=noise.get_action(action)\n",
    "        new_state,reward,done,_=env.step(action)\n",
    "        agent.memory.push(state,action,reward,new_state,done)\n",
    "        if len(agent.memory)>batch_size:\n",
    "            agent.update(batch_size)\n",
    "        state=new_state\n",
    "        episode_reward+=reward\n",
    "        if done:\n",
    "            sys.stdout.write(\"episode: {}, reward: {}, average _reward: {} \\n\".format(episode, np.round(episode_reward, decimals=2), np.mean(rewards[-10:])))\n",
    "            break\n",
    "    rewards.append(episode_reward)\n",
    "    avg_rewards.append(np.mean(rewards[-10:]))"
   ]
  },
  {
   "cell_type": "code",
   "execution_count": 11,
   "metadata": {},
   "outputs": [
    {
     "data": {
      "image/png": "[encoded data removed]",
      "text/plain": [
       "<Figure size 432x288 with 1 Axes>"
      ]
     },
     "metadata": {
      "needs_background": "light"
     },
     "output_type": "display_data"
    }
   ],
   "source": [
    "plt.plot(rewards)\n",
    "plt.plot(avg_rewards)\n",
    "plt.plot()\n",
    "plt.xlabel('Episode')\n",
    "plt.ylabel('Reward')\n",
    "plt.show()"
   ]
  },
  {
   "cell_type": "code",
   "execution_count": null,
   "metadata": {},
   "outputs": [],
   "source": []
  }
 ],
 "metadata": {
  "kernelspec": {
   "display_name": "Python 3",
   "language": "python",
   "name": "python3"
  },
  "language_info": {
   "codemirror_mode": {
    "name": "ipython",
    "version": 3
   },
   "file_extension": ".py",
   "mimetype": "text/x-python",
   "name": "python",
   "nbconvert_exporter": "python",
   "pygments_lexer": "ipython3",
   "version": "3.7.1"
  }
 },
 "nbformat": 4,
 "nbformat_minor": 2
}
