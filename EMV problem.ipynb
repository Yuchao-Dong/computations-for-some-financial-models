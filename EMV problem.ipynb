{
 "cells": [
  {
   "cell_type": "code",
   "execution_count": 1,
   "metadata": {},
   "outputs": [],
   "source": [
    "import numpy as np\n",
    "import math\n",
    "import matplotlib.pyplot as plt\n",
    "import time"
   ]
  },
  {
   "cell_type": "code",
   "execution_count": 2,
   "metadata": {},
   "outputs": [],
   "source": [
    "class controlledSDE(object):\n",
    "    def __init__(self,rho,sigma,initial,delta_t,T):\n",
    "        self.rho=rho\n",
    "        self.sigma=sigma\n",
    "        self.initial=initial\n",
    "        self.delta_t=delta_t\n",
    "        self.T=T\n",
    "        self.reset()\n",
    "    def reset(self):\n",
    "        self.t=0\n",
    "        self.state=self.initial\n",
    "        self.done=False\n",
    "    def step(self,action):\n",
    "        dx=self.sigma*action*(self.rho*self.delta_t+np.random.normal(scale=math.sqrt(self.delta_t)))\n",
    "        self.state+=dx\n",
    "        self.t+=self.delta_t\n",
    "        if self.t >=self.T:\n",
    "            self.done=True\n",
    "        return self.state,self.t,self.done       "
   ]
  },
  {
   "cell_type": "code",
   "execution_count": 3,
   "metadata": {},
   "outputs": [],
   "source": [
    "class agent(object):\n",
    "    def __init__(self,w,lam,theta_1,theta_2,phi_1,phi_2,lr_theta,lr_phi,T,z,alpha):\n",
    "        self.w=w\n",
    "        self.lam=lam\n",
    "        self.theta_1=theta_1\n",
    "        self.theta_2=theta_2\n",
    "        self.phi_1=phi_1\n",
    "        self.phi_2=phi_2\n",
    "        self.lr_theta=lr_theta\n",
    "        self.lr_phi=lr_phi\n",
    "        self.T=T\n",
    "        self.z=z\n",
    "        self.alpha=alpha\n",
    "        self.theta_0=-1*self.theta_2*self.T**2-self.theta_1*self.T-(self.w-self.z)**2\n",
    "        self.theta_3=2*self.phi_2\n",
    "        self.action_phi_1=self.phi_1\n",
    "        self.action_phi_2=self.phi_2\n",
    "    def value(self,t,x):\n",
    "        return (x-self.w)**2*math.exp(-1*self.theta_3*(self.T-t))+self.theta_2*t**2+self.theta_1*t+self.theta_0\n",
    "    def grad(self,t,x):\n",
    "        return self.theta_3*(x-self.w)**2*math.exp(-1*self.theta_3*(self.T-t))+2*self.theta_2*t+self.theta_1\n",
    "    def upgrade_value(self,delta_theta_1,delta_theta_2,delta_phi_1,delta_phi_2):\n",
    "        self.theta_1-=lr_theta*delta_theta_1\n",
    "        self.theta_2-=lr_theta*delta_theta_2\n",
    "        self.phi_1-=lr_phi*delta_phi_1\n",
    "        self.phi_2-=lr_phi*delta_phi_2\n",
    "        #self.phi_2=np.clip(self.phi_2,a_min=0,a_max=None)\n",
    "        self.theta_0=-1*self.theta_2*self.T**2-self.theta_1*self.T-(self.w-self.z)**2\n",
    "        self.theta_3=2*self.phi_2\n",
    "    def choose_action(self,t,x):\n",
    "        center=-1*math.sqrt(2*abs(self.action_phi_2)/self.lam/math.pi)*math.exp((2*self.action_phi_1-1)/2)*(x-self.w)\n",
    "        scale=math.sqrt(math.exp(2*self.action_phi_2*(self.T-t)+2*self.action_phi_1-1)/2/math.pi)\n",
    "        return np.random.normal(center,scale)\n",
    "    def improve_policy(self):\n",
    "        self.action_phi_1=self.phi_1\n",
    "        self.action_phi_2=self.phi_2\n",
    "    def upgrade_w(self,delta_w):\n",
    "        self.w-=self.alpha*delta_w"
   ]
  },
  {
   "cell_type": "code",
   "execution_count": 4,
   "metadata": {},
   "outputs": [],
   "source": [
    "T=1\n",
    "delta_t=1/252\n",
    "mu=0.3\n",
    "sigma=0.1\n",
    "r=0.02\n",
    "rho=(mu-r)/sigma\n",
    "M=20000\n",
    "N=10\n",
    "lam=2\n",
    "alpha=0.05\n",
    "lr_theta=0.0005\n",
    "lr_phi=0.0005\n",
    "initial=1\n",
    "z=1.4"
   ]
  },
  {
   "cell_type": "code",
   "execution_count": 5,
   "metadata": {},
   "outputs": [],
   "source": [
    "env=controlledSDE(rho,sigma,initial,delta_t,T)"
   ]
  },
  {
   "cell_type": "code",
   "execution_count": 6,
   "metadata": {},
   "outputs": [],
   "source": [
    "investor=agent(1,lam,1,1,1,1,lr_theta,lr_phi,T,z,alpha)"
   ]
  },
  {
   "cell_type": "code",
   "execution_count": 7,
   "metadata": {},
   "outputs": [
    {
     "name": "stdout",
     "output_type": "stream",
     "text": [
      "episode:1000,terminal error:-0.1914374578181599\n",
      "episode:2000,terminal error:-0.17414347595629986\n",
      "episode:3000,terminal error:-0.16095858023934606\n",
      "episode:4000,terminal error:-0.21285513347982588\n",
      "episode:5000,terminal error:-0.1553542086553097\n",
      "episode:6000,terminal error:0.031504753388174045\n",
      "episode:7000,terminal error:-0.020796831716833664\n",
      "episode:8000,terminal error:-0.0025284529316271787\n",
      "episode:9000,terminal error:0.1002696672763097\n",
      "episode:10000,terminal error:0.014570049958797293\n",
      "episode:11000,terminal error:0.0895915943108585\n",
      "episode:12000,terminal error:0.03816821121354974\n",
      "episode:13000,terminal error:0.040663770461952575\n",
      "episode:14000,terminal error:-0.057841903534078476\n",
      "episode:15000,terminal error:0.0222093586125498\n",
      "episode:16000,terminal error:0.09023889459321754\n",
      "episode:17000,terminal error:0.013293134835824283\n",
      "episode:18000,terminal error:0.02919241115941551\n",
      "episode:19000,terminal error:-0.02093147449484123\n",
      "episode:20000,terminal error:0.07956422135721763\n",
      "Training finished in 153.3700487613678s\n"
     ]
    }
   ],
   "source": [
    "terminal_wealth=np.array([])\n",
    "since=time.time()\n",
    "for i in range(M):\n",
    "    env.reset()\n",
    "    theta_1_batch=np.array([])\n",
    "    theta_2_batch=np.array([])\n",
    "    phi_1_batch=np.array([])\n",
    "    phi_2_batch=np.array([])\n",
    "    done=False\n",
    "    t=0\n",
    "    x=initial\n",
    "    while not done:\n",
    "        action=investor.choose_action(t,x)\n",
    "        next_x,next_t,done=env.step(action)\n",
    "        TD=investor.grad(t,x)-investor.lam*(investor.phi_1+investor.phi_2*(T-t))\n",
    "        theta_1_batch=np.append(theta_1_batch,TD*delta_t)\n",
    "        theta_2_batch=np.append(theta_2_batch,TD*(next_t**2-t**2))\n",
    "        phi_1_batch=np.append(phi_1_batch,-1*investor.lam*TD*delta_t)\n",
    "        diff=-1*(2*(next_x-investor.w)**2*math.exp(-2*investor.phi_2*(T-next_t))*(T-next_t)-2*(x-investor.w)**2*math.exp(-2*investor.phi_2*(T-t))*(T-t))/delta_t-investor.lam*(T-t)\n",
    "        phi_2_batch=np.append(phi_2_batch,TD*delta_t*diff)\n",
    "        t=next_t\n",
    "        #print(next_x)\n",
    "        x=next_x\n",
    "    #print(x)\n",
    "    terminal_wealth=np.append(terminal_wealth,x)\n",
    "    #print(terminal_wealth)\n",
    "    delta_theta_1=np.sum(theta_1_batch)\n",
    "    delta_theta_2=np.sum(theta_2_batch)\n",
    "    delta_phi_1=np.sum(phi_1_batch)\n",
    "    delta_phi_2=np.sum(phi_2_batch)\n",
    "    investor.upgrade_value(delta_theta_1,delta_theta_2,delta_phi_1,delta_phi_2)\n",
    "    investor.improve_policy()\n",
    "    if (i+1)%N==0:\n",
    "        delta_w=np.mean(terminal_wealth[-1*N:])-z\n",
    "        investor.upgrade_w(delta_w)\n",
    "        if (i+1)%(100*N)==0:\n",
    "            print('episode:{},terminal error:{}'.format(i+1,delta_w))\n",
    "            #print('phi_1:{},phi_2:{}'.format(investor.phi_1,investor.phi_2))\n",
    "print('Training finished in {}s'.format(time.time()-since))"
   ]
  },
  {
   "cell_type": "code",
   "execution_count": 8,
   "metadata": {},
   "outputs": [],
   "source": [
    "MA_wealth=np.array([])\n",
    "for i in range(0,M-50,50):\n",
    "    MA_wealth=np.append(MA_wealth,np.mean(terminal_wealth[i:i+50]))"
   ]
  },
  {
   "cell_type": "code",
   "execution_count": 9,
   "metadata": {},
   "outputs": [
    {
     "data": {
      "text/plain": [
       "[<matplotlib.lines.Line2D at 0x239a1dc30f0>]"
      ]
     },
     "execution_count": 9,
     "metadata": {},
     "output_type": "execute_result"
    },
    {
     "data": {
      "image/png": "[encoded data removed]",
      "text/plain": [
       "<Figure size 432x288 with 1 Axes>"
      ]
     },
     "metadata": {
      "needs_background": "light"
     },
     "output_type": "display_data"
    }
   ],
   "source": [
    "plt.plot(MA_wealth)"
   ]
  },
  {
   "cell_type": "code",
   "execution_count": 10,
   "metadata": {},
   "outputs": [
    {
     "name": "stdout",
     "output_type": "stream",
     "text": [
      "Annualized Return:1.3964115704548892, Variance:0.028088226741225634, Sharp Ratio:2.3652887220406296\n"
     ]
    }
   ],
   "source": [
    "perform=np.array([])\n",
    "for i in range(1000):\n",
    "    env.reset()\n",
    "    x=initial\n",
    "    t=0\n",
    "    done= False\n",
    "    while not done:\n",
    "        action=investor.choose_action(t,x)\n",
    "        x,t,done=env.step(action)\n",
    "    perform=np.append(perform,x)\n",
    "avg_return=np.mean(perform)\n",
    "variance=np.std(perform)**2\n",
    "sharp=(np.mean(perform)-1)/np.std(perform)\n",
    "print('Annualized Return:{}, Variance:{}, Sharp Ratio:{}'.format(avg_return,variance,sharp))"
   ]
  },
  {
   "cell_type": "code",
   "execution_count": null,
   "metadata": {},
   "outputs": [],
   "source": []
  }
 ],
 "metadata": {
  "kernelspec": {
   "display_name": "Python 3",
   "language": "python",
   "name": "python3"
  },
  "language_info": {
   "codemirror_mode": {
    "name": "ipython",
    "version": 3
   },
   "file_extension": ".py",
   "mimetype": "text/x-python",
   "name": "python",
   "nbconvert_exporter": "python",
   "pygments_lexer": "ipython3",
   "version": "3.7.1"
  }
 },
 "nbformat": 4,
 "nbformat_minor": 2
}
