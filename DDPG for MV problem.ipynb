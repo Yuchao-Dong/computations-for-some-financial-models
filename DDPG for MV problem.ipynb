{
 "cells": [
  {
   "cell_type": "code",
   "execution_count": 1,
   "metadata": {},
   "outputs": [],
   "source": [
    "import numpy as np\n",
    "import math\n",
    "import matplotlib.pyplot as plt\n",
    "import time\n",
    "import torch\n",
    "import torch.nn.functional as F\n",
    "import random\n",
    "from collections import deque\n",
    "import gym\n",
    "import torch.autograd\n",
    "from torch.autograd import Variable\n",
    "import sys\n",
    "import matplotlib.pyplot as plt"
   ]
  },
  {
   "cell_type": "code",
   "execution_count": 2,
   "metadata": {},
   "outputs": [],
   "source": [
    "class controlledSDE(object):\n",
    "    def __init__(self,rho,sigma,initial,delta_t,T):\n",
    "        self.rho=rho\n",
    "        self.sigma=sigma\n",
    "        self.initial=initial\n",
    "        self.delta_t=delta_t\n",
    "        self.T=T\n",
    "        self.reset()\n",
    "    def reset(self):\n",
    "        self.t=0\n",
    "        self.state=self.initial\n",
    "        self.done=False\n",
    "    def step(self,action):\n",
    "        dx=self.sigma*action*(self.rho*self.delta_t+np.random.normal(scale=math.sqrt(self.delta_t)))\n",
    "        self.state+=dx\n",
    "        self.t+=self.delta_t\n",
    "        if self.t >=self.T:\n",
    "            self.done=True\n",
    "        return self.state,self.t,self.done       "
   ]
  },
  {
   "cell_type": "code",
   "execution_count": 3,
   "metadata": {},
   "outputs": [],
   "source": [
    "class Critic(torch.nn.Module):\n",
    "    def __init__(self,input_size,hidden_size,output_size):\n",
    "        super(Critic,self).__init__()\n",
    "        self.linear1=torch.nn.Linear(input_size,hidden_size)\n",
    "        self.linear2=torch.nn.Linear(hidden_size,hidden_size)\n",
    "        self.linear3=torch.nn.Linear(hidden_size,output_size)\n",
    "        \n",
    "    def forward(self,time,state,action):\n",
    "        x=torch.cat([time,state,action],1)\n",
    "        x=F.relu(self.linear1(x))\n",
    "        x=F.relu(self.linear2(x))\n",
    "        x=self.linear3(x)\n",
    "        return x"
   ]
  },
  {
   "cell_type": "code",
   "execution_count": 4,
   "metadata": {},
   "outputs": [],
   "source": [
    "class Actor(torch.nn.Module):\n",
    "    def __init__(self,input_size,hidden_size,output_size):\n",
    "        super(Actor,self).__init__()\n",
    "        self.linear1=torch.nn.Linear(input_size,hidden_size)\n",
    "        self.linear2=torch.nn.Linear(hidden_size,hidden_size)\n",
    "        self.linear3=torch.nn.Linear(hidden_size,output_size)\n",
    "        \n",
    "    def forward(self,time,state):\n",
    "        x=torch.cat([time,state],1)\n",
    "        x=F.relu(self.linear1(x))\n",
    "        x=F.relu(self.linear2(x))\n",
    "        x=self.linear3(x)\n",
    "        return x"
   ]
  },
  {
   "cell_type": "code",
   "execution_count": 13,
   "metadata": {},
   "outputs": [],
   "source": [
    "T=1\n",
    "delta_t=1/252\n",
    "mu=0.3\n",
    "sigma=0.1\n",
    "r=0.02\n",
    "rho=(mu-r)/sigma\n",
    "M=20000\n",
    "N_1=10\n",
    "N_2=1000\n",
    "#lam=2\n",
    "alpha=0.05\n",
    "lr=0.00005\n",
    "initial=1\n",
    "z=1.4\n",
    "epsilon=0.01\n",
    "tau=1"
   ]
  },
  {
   "cell_type": "code",
   "execution_count": 14,
   "metadata": {},
   "outputs": [],
   "source": [
    "actor=Actor(2,20,1)\n",
    "target_actor=Actor(2,20,1)\n",
    "for para,t_para in zip(actor.parameters(),target_actor.parameters()):\n",
    "    t_para.data.copy_(para.data)\n",
    "critic=Critic(3,20,1)\n",
    "target_critic=Critic(3,20,1)\n",
    "for para,t_para in zip(critic.parameters(),target_critic.parameters()):\n",
    "    t_para.data.copy_(para.data)"
   ]
  },
  {
   "cell_type": "code",
   "execution_count": 15,
   "metadata": {},
   "outputs": [],
   "source": [
    "env=controlledSDE(rho,sigma,initial,delta_t,T)"
   ]
  },
  {
   "cell_type": "code",
   "execution_count": 16,
   "metadata": {},
   "outputs": [],
   "source": [
    "loss=torch.nn.MSELoss()\n",
    "actor_optimizer=torch.optim.Adam(actor.parameters(),lr=lr)\n",
    "critic_optimizer=torch.optim.Adam(critic.parameters(),lr=lr)"
   ]
  },
  {
   "cell_type": "code",
   "execution_count": 17,
   "metadata": {},
   "outputs": [
    {
     "name": "stdout",
     "output_type": "stream",
     "text": [
      "episode:1000,terminal error:-0.38771827958647265\n",
      "episode:2000,terminal error:-0.38670222858214354\n",
      "episode:3000,terminal error:-0.5408266506044849\n",
      "episode:4000,terminal error:0.24700607700285282\n",
      "episode:5000,terminal error:0.6212274859382454\n",
      "episode:6000,terminal error:0.5805395598815069\n",
      "episode:7000,terminal error:0.4364024982693797\n",
      "episode:8000,terminal error:0.08240143098141806\n",
      "episode:9000,terminal error:-0.13382064958346063\n",
      "episode:10000,terminal error:-0.06395858061411408\n",
      "episode:11000,terminal error:-0.024412044197658966\n",
      "episode:12000,terminal error:-0.006740566713745677\n",
      "episode:13000,terminal error:0.028087816110325958\n",
      "episode:14000,terminal error:0.04105333558746094\n",
      "episode:15000,terminal error:-0.00024507777640070394\n",
      "episode:16000,terminal error:0.011056081381493055\n",
      "episode:17000,terminal error:-0.006966267062985532\n",
      "episode:18000,terminal error:-0.019322623391646365\n",
      "episode:19000,terminal error:0.03320102089127186\n",
      "episode:20000,terminal error:0.055948498554166504\n",
      "Training finished in 765.8515448570251s\n"
     ]
    }
   ],
   "source": [
    "terminal_wealth=np.array([])\n",
    "since=time.time()\n",
    "w=1\n",
    "for i in range(M):\n",
    "    times=[]\n",
    "    states=[]\n",
    "    actions=[]\n",
    "    next_states=[]\n",
    "    next_time=[]\n",
    "    #target_Q=np.array([])\n",
    "    x=initial\n",
    "    t=0\n",
    "    done=False\n",
    "    env.reset()\n",
    "    while not done:\n",
    "        state=torch.FloatTensor([[x-w]])\n",
    "        s=torch.FloatTensor([[t]])\n",
    "        action=actor.forward(s,state)\n",
    "        action=action.detach().numpy()[0,0]\n",
    "        action+=epsilon*np.random.normal()\n",
    "        next_x,next_t,done=env.step(action)\n",
    "        times.append(t)\n",
    "        states.append(x-w)\n",
    "        actions.append(action)\n",
    "        next_states.append(next_x-w)\n",
    "        next_time.append(next_t)\n",
    "        x=next_x\n",
    "        t=next_t\n",
    "    terminal_wealth=np.append(terminal_wealth,x)\n",
    "    states=torch.FloatTensor(states)\n",
    "    states=torch.reshape(states,[-1,1])\n",
    "    actions=torch.FloatTensor(actions)\n",
    "    actions=torch.reshape(actions,[-1,1])\n",
    "    times=torch.FloatTensor(times)\n",
    "    times=torch.reshape(times,[-1,1])\n",
    "    next_states=torch.FloatTensor(next_states)\n",
    "    next_states=torch.reshape(next_states,[-1,1])\n",
    "    next_time=torch.FloatTensor(next_time)\n",
    "    next_time=torch.reshape(next_time,[-1,1])\n",
    "    Q_val=critic.forward(times,states,actions)\n",
    "    next_actions=target_actor.forward(next_time,next_states)\n",
    "    next_Q=target_critic(next_time,next_states,next_actions.detach())\n",
    "    next_Q[-1]=next_states[-1]**2\n",
    "    critic_loss=loss(next_Q,Q_val)\n",
    "    policy_loss=critic.forward(times,states,actor.forward(times,states)).mean()\n",
    "    actor_optimizer.zero_grad()\n",
    "    policy_loss.backward()\n",
    "    actor_optimizer.step()\n",
    "    critic_optimizer.zero_grad()\n",
    "    critic_loss.backward()\n",
    "    critic_optimizer.step()\n",
    "    for para,t_para in zip(actor.parameters(),target_actor.parameters()):\n",
    "        t_para.data.copy_(para.data*tau+(1-tau)*t_para.data)\n",
    "    for para,t_para in zip(critic.parameters(),target_critic.parameters()):\n",
    "        t_para.data.copy_(para.data*tau+(1-tau)*t_para.data)\n",
    "    if (i+1)%N_1==0:\n",
    "        delta_w=np.mean(terminal_wealth[-1*N_1:])-z\n",
    "        w-=alpha*delta_w\n",
    "    if (i+1)%N_2==0:\n",
    "        print('episode:{},terminal error:{}'.format(i+1,delta_w))\n",
    "            #print('phi_1:{},phi_2:{}'.format(investor.phi_1,investor.phi_2))\n",
    "print('Training finished in {}s'.format(time.time()-since))"
   ]
  },
  {
   "cell_type": "code",
   "execution_count": 18,
   "metadata": {},
   "outputs": [
    {
     "data": {
      "text/plain": [
       "[<matplotlib.lines.Line2D at 0x23afc71eeb8>]"
      ]
     },
     "execution_count": 18,
     "metadata": {},
     "output_type": "execute_result"
    },
    {
     "data": {
      "image/png": "[encoded data removed]",
      "text/plain": [
       "<Figure size 432x288 with 1 Axes>"
      ]
     },
     "metadata": {
      "needs_background": "light"
     },
     "output_type": "display_data"
    }
   ],
   "source": [
    "MA_wealth=np.array([])\n",
    "for i in range(0,M-50,50):\n",
    "    MA_wealth=np.append(MA_wealth,np.mean(terminal_wealth[i:i+50]))\n",
    "plt.plot(MA_wealth)"
   ]
  },
  {
   "cell_type": "code",
   "execution_count": null,
   "metadata": {},
   "outputs": [],
   "source": [
    "perform=np.array([])\n",
    "for i in range(1000):\n",
    "    env.reset()\n",
    "    x=initial\n",
    "    t=0\n",
    "    done= False\n",
    "    while not done:\n",
    "        state=torch.FloatTensor([[x-w]])\n",
    "        s=torch.FloatTensor([[t]])\n",
    "        action=actor.forward(s,state)\n",
    "        action=action.detach().numpy()[0,0]\n",
    "        action+=epsilon*np.random.normal()\n",
    "        next_x,next_t,done=env.step(action)\n",
    "        x=next_x\n",
    "        t=next_t\n",
    "    perform=np.append(perform,x)\n",
    "avg_return=np.mean(perform)\n",
    "variance=np.std(perform)**2\n",
    "sharp=(np.mean(perform)-1)/np.std(perform)\n",
    "print('Annualized Return:{}, Variance:{}, Sharp Ratio:{}'.format(avg_return,variance,sharp))"
   ]
  }
 ],
 "metadata": {
  "kernelspec": {
   "display_name": "Python 3",
   "language": "python",
   "name": "python3"
  },
  "language_info": {
   "codemirror_mode": {
    "name": "ipython",
    "version": 3
   },
   "file_extension": ".py",
   "mimetype": "text/x-python",
   "name": "python",
   "nbconvert_exporter": "python",
   "pygments_lexer": "ipython3",
   "version": "3.7.1"
  }
 },
 "nbformat": 4,
 "nbformat_minor": 2
}
