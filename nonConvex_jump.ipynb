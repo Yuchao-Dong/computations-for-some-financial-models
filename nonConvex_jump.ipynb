{
 "cells": [
  {
   "cell_type": "code",
   "execution_count": 78,
   "metadata": {},
   "outputs": [],
   "source": [
    "import numpy as np\n",
    "import matplotlib.pyplot as plt\n",
    "from scipy import sparse\n",
    "from scipy.sparse import linalg\n",
    "import scipy.optimize as optim"
   ]
  },
  {
   "cell_type": "code",
   "execution_count": 89,
   "metadata": {},
   "outputs": [],
   "source": [
    "#model parameters\n",
    "r=0.03 #interest rate\n",
    "mu=0.07 #average return\n",
    "sigma=0.3 #volatility\n",
    "lam=0.1\n",
    "jump=-0.4\n",
    "T=.1 #terminal time\n",
    "c1=1.2 #terminal utility parameter1\n",
    "c2=0 #terminal utility parameter2\n",
    "xref=1 #terminal utility parameter3\n",
    "gamma=0.5 #risk aversion\n",
    "d=0 #lower bound of strategy\n",
    "u=1 #upper bound of strategy"
   ]
  },
  {
   "cell_type": "code",
   "execution_count": 90,
   "metadata": {},
   "outputs": [],
   "source": [
    "#parameter for the numerical algorithm\n",
    "zmin=0 #lower bound of the region\n",
    "zmax=2 # upper bound of the region\n",
    "Nt=1001 # number of point in t-coordinate\n",
    "Nz=1001# number of points in z-coordinate\n",
    "Npi=401 # number of points in control region\n",
    "z=np.linspace(zmin,zmax,Nz) \n",
    "t=np.linspace(0,T,Nt)\n",
    "pi=np.linspace(d,u,Npi)\n",
    "dt=t[1]-t[0]\n",
    "dz=z[1]-z[0]\n",
    "dpi=pi[1]-pi[0]\n",
    "epsilon=dt/100000\n",
    "zmesh=np.expand_dims(z,0).repeat(Nt,axis=0)\n",
    "tmesh=np.expand_dims(t,1).repeat(Nz,axis=1)"
   ]
  },
  {
   "cell_type": "code",
   "execution_count": 91,
   "metadata": {},
   "outputs": [],
   "source": [
    "vfull=np.zeros(shape=(Nt,Nz))#value function\n",
    "pifull=np.zeros(shape=(Nt,Nz))#optimal strategy"
   ]
  },
  {
   "cell_type": "code",
   "execution_count": 92,
   "metadata": {},
   "outputs": [],
   "source": [
    "#terminal condition\n",
    "eta=mu-r\n",
    "v=z**(1-gamma)/(1-gamma)*(z<xref)+(c1*z**(1-gamma)/(1-gamma)+c2)*(z>=xref)\n",
    "# boundary condition\n",
    "bounds=optim.Bounds(d,u)\n",
    "def f(x):\n",
    "    return -(mu-r)*(1-gamma)*x+0.5*sigma**2*x**2*gamma*(1-gamma)-lam*((1+jump*x)**(1-gamma)-1)\n",
    "res=optim.minimize(f,np.array([d]),bounds=bounds)# numerically solve\n",
    "AA=-1*res['fun']\n",
    "bmin=zmin**(1-gamma)/(1-gamma)*np.exp(AA*(T-t))\n",
    "bmax=c1*zmax**(1-gamma)/(1-gamma)*np.exp(AA*(T-t))+c2\n",
    "vfull[-1,:]=v\n",
    "vfull[:,0]=bmin\n",
    "vfull[:,-1]=bmax"
   ]
  },
  {
   "cell_type": "code",
   "execution_count": 93,
   "metadata": {},
   "outputs": [],
   "source": [
    "#construction of matrix of local operator for every control value pi\n",
    "A={}\n",
    "for i in range(len(pi)):\n",
    "    b=pi[i]*z*(mu-r)/dz/2\n",
    "    a=pi[i]**2*z**2*sigma**2/2/dz/dz\n",
    "    alpha=(a-b)*(a>=b)+a*(a<b) #backward point\n",
    "    beta=(a+b)*(a>=b)+(a+2*b)*(a<b)# forward point\n",
    "    alpha[0]=0\n",
    "    alpha[-1]=0\n",
    "    beta[0]=0\n",
    "    beta[-1]=0\n",
    "    p = np.arange(0,Nz)\n",
    "    M = sparse.coo_matrix((alpha+beta+1/dt,(p,p)),shape=(Nz,Nz))\n",
    "    M=M+sparse.coo_matrix((-1*beta[:-1],(p[:-1],p[:-1]+1)),shape=(Nz,Nz))\n",
    "    M=M+sparse.coo_matrix((-1*alpha[1:],(p[1:],p[1:]-1)),shape=(Nz,Nz))\n",
    "    M=M.tocsc()\n",
    "    A[i]=M"
   ]
  },
  {
   "cell_type": "code",
   "execution_count": 94,
   "metadata": {},
   "outputs": [],
   "source": [
    "#construction of matrix of nonlocal operator for every control value pi\n",
    "B={}\n",
    "for i in range(len(pi)):\n",
    "    z_after=(1+jump*pi[i])*z\n",
    "    z_after=np.clip(z_after,zmin,zmax)\n",
    "    lindex=np.floor(z_after/dz)\n",
    "    zleft=lindex*dz\n",
    "    rindex=np.ceil(z_after/dz)\n",
    "    zright=rindex*dz\n",
    "    lweight=(z_after-zleft)/dz*(zleft<zright)+0.5*(zleft==zright)\n",
    "    rweight=(zright-z_after)/dz*(zleft<zright)+0.5*(zleft==zright)\n",
    "    p = np.arange(0,Nz)\n",
    "    M = sparse.coo_matrix((-1*lweight,(p,lindex)),shape=(Nz,Nz))\n",
    "    M=M+sparse.coo_matrix((-1*rweight,(p,rindex)),shape=(Nz,Nz))\n",
    "    M=M+sparse.coo_matrix((np.ones(shape=Nz),(p,p)),shape=(Nz,Nz))\n",
    "    B[i]=M"
   ]
  },
  {
   "cell_type": "code",
   "execution_count": 95,
   "metadata": {},
   "outputs": [],
   "source": [
    "for t in reversed(range(Nt-1)):\n",
    "    prev_v=vfull[t+1,:]\n",
    "    U=np.zeros(shape=(Npi,Nz))\n",
    "    for i in range(len(pi)):\n",
    "        Au=A[i]\n",
    "        Bu=B[i]\n",
    "        w=1/dt*prev_v\n",
    "        w[0]=1/dt*bmin[t]\n",
    "        w[-1]=1/dt*bmax[t]\n",
    "        U[i,:]=sparse.linalg.spsolve(Au+lam*Bu,w)\n",
    "    v=np.max(U,axis=0)\n",
    "    index=np.argmax(U,axis=0)\n",
    "    pifull[t,:]=index*dpi\n",
    "    vfull[t,:]=v"
   ]
  },
  {
   "cell_type": "code",
   "execution_count": 96,
   "metadata": {},
   "outputs": [
    {
     "data": {
      "text/plain": [
       "[<matplotlib.lines.Line2D at 0x294e06cc438>]"
      ]
     },
     "execution_count": 96,
     "metadata": {},
     "output_type": "execute_result"
    },
    {
     "data": {
      "image/png": "[encoded data removed]",
      "text/plain": [
       "<Figure size 432x288 with 1 Axes>"
      ]
     },
     "metadata": {
      "needs_background": "light"
     },
     "output_type": "display_data"
    }
   ],
   "source": [
    "plt.plot(z,vfull[0,:])"
   ]
  },
  {
   "cell_type": "code",
   "execution_count": 101,
   "metadata": {},
   "outputs": [
    {
     "data": {
      "text/plain": [
       "[<matplotlib.lines.Line2D at 0x294e4662908>]"
      ]
     },
     "execution_count": 101,
     "metadata": {},
     "output_type": "execute_result"
    },
    {
     "data": {
      "image/png": "[encoded data removed]",
      "text/plain": [
       "<Figure size 432x288 with 1 Axes>"
      ]
     },
     "metadata": {
      "needs_background": "light"
     },
     "output_type": "display_data"
    }
   ],
   "source": [
    "plt.plot(z,pifull[0,:])"
   ]
  },
  {
   "cell_type": "code",
   "execution_count": null,
   "metadata": {},
   "outputs": [],
   "source": []
  }
 ],
 "metadata": {
  "kernelspec": {
   "display_name": "Python 3",
   "language": "python",
   "name": "python3"
  },
  "language_info": {
   "codemirror_mode": {
    "name": "ipython",
    "version": 3
   },
   "file_extension": ".py",
   "mimetype": "text/x-python",
   "name": "python",
   "nbconvert_exporter": "python",
   "pygments_lexer": "ipython3",
   "version": "3.7.1"
  }
 },
 "nbformat": 4,
 "nbformat_minor": 2
}
