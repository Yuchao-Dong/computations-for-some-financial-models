{
 "cells": [
  {
   "cell_type": "code",
   "execution_count": 33,
   "metadata": {},
   "outputs": [],
   "source": [
    "import numpy as np\n",
    "import scipy\n",
    "from scipy import sparse\n",
    "from scipy.sparse import linalg\n",
    "from numpy import matlib\n",
    "import math\n",
    "import matplotlib.pyplot as plt"
   ]
  },
  {
   "cell_type": "markdown",
   "metadata": {},
   "source": [
    "set parameters"
   ]
  },
  {
   "cell_type": "code",
   "execution_count": 9,
   "metadata": {},
   "outputs": [],
   "source": [
    "gamma = -2 #0 if under log utility\n",
    "dt = 5\n",
    "nz = 100\n",
    "nx = 400\n",
    "#alpha = 0.01;\n",
    "#theta = 0.01;\n",
    "# transaction cost to be zero\n",
    "alpha = 0#0.01;\n",
    "theta = 0#0.01;\n",
    "tau = 0.35\n",
    "r = 0.01\n",
    "beta=0.01\n",
    "mu = 0.07\n",
    "sigma = 0.25\n",
    "zlow = 0\n",
    "zup = 1\n",
    "xlow = 0\n",
    "#xup=5\n",
    "#xup = 1+(alpha+theta)/tau\n",
    "xup=4\n",
    "PN = 1e8\n",
    "tol = 1e-7\n",
    "dz = (zup-zlow)/nz\n",
    "dx = (xup-xlow)/nx\n",
    "dzz = dz*dz\n",
    "dxx = dx*dx\n",
    "dxz = dx*dz\n",
    "nz = nz+1\n",
    "nx = nx+1\n",
    "l = nz*nx#number of nodes\n",
    "sgs = sigma**2"
   ]
  },
  {
   "cell_type": "markdown",
   "metadata": {},
   "source": [
    "set coefficients"
   ]
  },
  {
   "cell_type": "code",
   "execution_count": 10,
   "metadata": {},
   "outputs": [],
   "source": [
    "z1=np.arange(zlow,zup+dz,dz)\n",
    "z=matlib.repmat(z1,1,nx)\n",
    "z=z.transpose()\n",
    "x=np.array([])\n",
    "for i in np.arange(xlow,xup+dx,dx):\n",
    "    x=np.append(x,i*np.ones(nz))\n",
    "x=np.expand_dims(x,axis=1)\n",
    "f=np.ones([l,1])\n",
    "zs=np.array(z*(1-z))\n",
    "zt=np.array(z**2)\n",
    "zh=np.array((1-z)**2)\n",
    "xs =np.array(x**2)\n",
    "#invdt=1/dt;\n",
    "invdt=0;\n",
    "xz =np.array(x*z*(1-z))"
   ]
  },
  {
   "cell_type": "markdown",
   "metadata": {},
   "source": [
    "Terminal Condition"
   ]
  },
  {
   "cell_type": "code",
   "execution_count": 18,
   "metadata": {},
   "outputs": [],
   "source": [
    "#Merton=(mu-r)/sigma^2/(1-gamma)\n",
    "bb=(beta-gamma*r-gamma*(mu-r)**2/2/(1-gamma)/sigma**2)/(1-gamma)\n",
    "bb0=(beta-gamma*r-gamma*(mu-r/(1-tau))**2/2/(1-gamma)/sigma**2)/(1-gamma)\n",
    "#Ms=bb^(-1+gamma)/gamma;\n",
    "#u=np.log(1-(alpha+tau-tau*x)*(1-z))\n",
    "#u=math.log(bb**(-1+gamma))/gamma*np.ones([l,1])\n",
    "u=-6.25*np.ones([l,1])"
   ]
  },
  {
   "cell_type": "markdown",
   "metadata": {},
   "source": [
    "coefficients in the Lv operator and for inner points"
   ]
  },
  {
   "cell_type": "code",
   "execution_count": 15,
   "metadata": {},
   "outputs": [],
   "source": [
    "coef1ij0 = np.zeros([l,1])\n",
    "coef1i1j = np.zeros([l,1])\n",
    "coefi0j0 = np.zeros([l,1])\n",
    "coefi0j1 = np.zeros([l,1])\n",
    "coefi01j = np.zeros([l,1])\n",
    "coefi1j0 = np.zeros([l,1])\n",
    "coefi1j1 = np.zeros([l,1])\n",
    "pos=np.array([],dtype=np.int)#positions of the inner points\n",
    "for i in range(nx-2):\n",
    "    idxstart=(i+1)*nz+1\n",
    "    idxend=(i+2)*nz-1\n",
    "    pos=np.append(pos,np.arange(idxstart,idxend))\n",
    "for i in pos:\n",
    "    coefi1j0[i,0] = -1*(((mu-r-sgs*(1-gamma)+sgs*z[i,0])*zs[i,0]-gamma*sgs*zs[i,0]*z[i,0])<0)*((mu-r-sgs*(1-gamma)+sgs*z[i,0])*zs[i,0]-gamma*sgs*zs[i,0]*z[i,0])/dz+sgs*zs[i,0]*zs[i,0]/dzz/2-sgs*xz[i,0]/dxz/2\n",
    "for i in pos:\n",
    "    coef1ij0[i,0] =  (((mu-r-sgs*(1-gamma)+sgs*z[i,0])*zs[i,0]-gamma*sgs*zs[i,0]*z[i,0])>0)*((mu-r-sgs*(1-gamma)+sgs*z[i,0])*zs[i,0]-gamma*sgs*zs[i,0]*z[i,0])/dz+sgs*zs[i,0]*zs[i,0]/dzz/2-sgs*xz[i,0]/dxz/2\n",
    "for i in pos:\n",
    "    coefi0j1[i,0] = -1*((mu-sgs*(1-gamma)-gamma*sgs*z[i,0])<0)*(mu-sgs*(1-gamma)-gamma*sgs*z[i,0])*x[i,0]/dx+sgs*xs[i,0]/dxx/2-sgs*xz[i,0]/dxz/2\n",
    "for i in pos:\n",
    "    coefi01j[i,0] =  ((mu-sgs*(1-gamma)-gamma*sgs*z[i,0])>0)*(mu-sgs*(1-gamma)-gamma*sgs*z[i,0])*x[i,0]/dx +sgs*xs[i,0]/dxx/2-sgs*xz[i,0]/dxz/2\n",
    "for i in pos:\n",
    "    coefi1j1[i,0] = sgs*xz[i,0]/dxz/2\n",
    "    coef1i1j[i,0] = coefi1j1[i,0]\n",
    "for i in pos:\n",
    "    coefi0j0[i,0]= -1*invdt -coefi1j0[i,0]-coef1ij0[i,0]-coefi0j1[i,0]-coefi01j[i,0]-coefi1j1[i,0]-coef1i1j[i,0]"
   ]
  },
  {
   "cell_type": "markdown",
   "metadata": {},
   "source": [
    "Iteration"
   ]
  },
  {
   "cell_type": "code",
   "execution_count": 20,
   "metadata": {},
   "outputs": [
    {
     "name": "stdout",
     "output_type": "stream",
     "text": [
      "count=50,error=1.023372091449903e-05\n",
      "count=100,error=1.9947986230295963e-06\n",
      "count=150,error=4.1750257207088e-06\n",
      "count=200,error=6.026751171297193e-06\n",
      "count=250,error=1.249875719480359e-05\n",
      "count=300,error=5.037249259732543e-06\n",
      "count=347,error=8.907907136765943e-08\n"
     ]
    }
   ],
   "source": [
    "count=0\n",
    "while True:\n",
    "    count=count+1\n",
    "    uold=u\n",
    "    unew=u\n",
    "    Ibuy = np.zeros([l,1]) #indicator, 1 is in buy region.\n",
    "    Isell = np.zeros([l,1])\n",
    "    ncoefi0j0 = np.zeros([l,1])\n",
    "    ncoefi0j1 = np.zeros([l,1])\n",
    "    ncoefi01j = np.zeros([l,1])\n",
    "    ncoefi1j0 = np.zeros([l,1])\n",
    "    ncoef1ij0 = np.zeros([l,1])\n",
    "    inner_pos=np.array([],dtype=int)#inner points position\n",
    "    for i in range(nx-2):\n",
    "        idxstart=(i+1)*nz+1\n",
    "        idxend=(i+2)*nz-1\n",
    "        inner_pos=np.append(inner_pos,np.arange(idxstart,idxend))\n",
    "#Newton iteration\n",
    "    ztemp1=(u[inner_pos,0]-u[inner_pos-1,0])/dz\n",
    "    ztemp2=(u[inner_pos+1,0]-u[inner_pos,0])/dz\n",
    "    xtemp1=(u[inner_pos,0]-u[inner_pos-nz,0])/dx\n",
    "    xtemp2=(u[inner_pos+nz,0]-u[inner_pos,0])/dx\n",
    "    consum_root=np.exp(u[inner_pos,0])*(1+(1-z[inner_pos,0])*ztemp2)\n",
    "    consum=np.sign(consum_root)*(np.abs(consum_root))**(-1/(1-gamma))\n",
    "    ncoef1ij0[inner_pos,0] =-1*(gamma<0)*gamma*sgs*(zs[inner_pos,0]*zs[inner_pos,0]*ztemp1+xz[inner_pos,0]*xtemp1)/dz+consum*np.exp(u[inner_pos,0])*(1-z[inner_pos,0])/dz\n",
    "    ncoefi1j0[inner_pos,0] = (gamma>0)*gamma*sgs*(zs[inner_pos,0]*zs[inner_pos,0]*ztemp2+xz[inner_pos,0]*xtemp2)/dz\n",
    "    ncoefi01j[inner_pos,0] =-1*(gamma<0)*gamma*sgs*(xs[inner_pos,0]*xtemp1+xz[inner_pos,0]*ztemp1)/dx\n",
    "    ncoefi0j1[inner_pos,0]=(gamma>0)*gamma*sgs*(xs[inner_pos,0]*xtemp2+xz[inner_pos,0]*ztemp2)/dx\n",
    "    ncoefi0j0[inner_pos,0]=  -1*np.sign(consum)*np.abs(consum)**gamma\n",
    "    buytemp = -1*((1+theta*(1-z[inner_pos,0]))*(1-z[inner_pos,0]))*ztemp1 +((1-x[inner_pos,0])>0)*(1-x[inner_pos,0])*xtemp2+((1-x[inner_pos,0])<0)*(1-x[inner_pos,0])*xtemp1 -theta*(1-z[inner_pos,0])\n",
    "    selltemp = ((-1*alpha-tau+tau*x[inner_pos,0])*zh[inner_pos,0]+(1-z[inner_pos,0]))*ztemp2 - (alpha+tau-tau*x[inner_pos,0])*(1-z[inner_pos,0])\n",
    "    Ibuy[inner_pos,0]=buytemp>0\n",
    "    Isell[inner_pos,0]=selltemp>0\n",
    "    f[inner_pos,0] = -1*unew[inner_pos,0]*invdt-r-(1-z[inner_pos,0])*(mu-r-(1-gamma)/2*sgs*(1-z[inner_pos,0]))+beta/gamma-1/gamma*np.sign(consum)*np.abs(consum)**gamma+consum*np.exp(u[inner_pos,0])-np.sign(consum)*np.abs(consum)**gamma*u[inner_pos,0]+PN*Ibuy[inner_pos,0]*theta*(1-z[inner_pos,0]) + PN*Isell[inner_pos,0]*(alpha+tau-tau*x[inner_pos,0])*(1-z[inner_pos,0])+(gamma<0)*gamma*sgs*(zs[inner_pos,0]/2*zs[inner_pos,0]*ztemp1**2 + xs[inner_pos,0]/2*xtemp1**2+xz[inner_pos,0]*ztemp1*xtemp1)+(gamma>0)*gamma*sgs*(zs[inner_pos,0]/2*zs[inner_pos,0]*ztemp2**2 + xs[inner_pos,0]/2*xtemp2**2+xz[inner_pos,0]*ztemp2*xtemp2)\n",
    "    #z = zlow; z=zlow&x=xlow at position [0:nx-1]*nz+1\n",
    "    pos_zlxl = np.arange(0,nx-1)*nz\n",
    "    Isell[pos_zlxl,0] = 1\n",
    "    f[pos_zlxl,0] = PN*Isell[pos_zlxl,0]*(alpha+tau-tau*x[pos_zlxl,0])*(1-z[pos_zlxl,0])\n",
    "     #x = xlow at position [2:nz-1]\n",
    "    pos_xl = np.arange(1,nz-1)\n",
    "    coefi1j0[pos_xl,0] = -1*(((mu-r-sgs*(1-gamma)+sgs*z[pos_xl,0])*zs[pos_xl,0]-gamma*sgs*zs[pos_xl,0]*z[pos_xl,0])<0)*((mu-r-sgs*(1-gamma)+sgs*z[pos_xl,0])*zs[pos_xl,0]-gamma*sgs*zs[pos_xl,0]*z[pos_xl,0])/dz + sgs*zs[pos_xl,0]*zs[pos_xl,0]/dzz/2\n",
    "    coef1ij0[pos_xl,0] =  (((mu-r-sgs*(1-gamma)+sgs*z[pos_xl,0])*zs[pos_xl,0]-gamma*sgs*zs[pos_xl,0]*z[pos_xl,0])>0)*((mu-r-sgs*(1-gamma)+sgs*z[pos_xl,0])*zs[pos_xl,0]-gamma*sgs*zs[pos_xl,0]*z[pos_xl,0])/dz+ sgs*zs[pos_xl,0]*zs[pos_xl,0]/dzz/2\n",
    "    coefi0j0[pos_xl,0] = -1*invdt - coefi1j0[pos_xl,0] - coef1ij0[pos_xl,0]\n",
    "    ztemp1 = (u[pos_xl,0]-u[pos_xl-1,0])/dz\n",
    "    ztemp2 = (u[pos_xl+1,0]-u[pos_xl,0])/dz\n",
    "    consum_root=np.exp(u[pos_xl,0])*(1+(1-z[pos_xl,0])*ztemp2)\n",
    "    consum=consum=np.sign(consum_root)*(np.abs(consum_root))**(-1/(1-gamma))\n",
    "    ncoef1ij0[pos_xl,0] =-1*(gamma<0)*gamma*sgs*zs[pos_xl,0]*zs[pos_xl,0]*ztemp1/dz+consum*np.exp(u[pos_xl,0])*(1-z[pos_xl,0])/dz\n",
    "    ncoefi1j0[pos_xl,0] = (gamma>0)*gamma*sgs*zs[pos_xl,0]*zs[pos_xl,0]*ztemp2/dz\n",
    "    ncoefi0j0[pos_xl,0]=-1*np.sign(consum)*np.abs(consum)**gamma\n",
    "    buytemp =-1*((1+theta*(1-z[pos_xl,0]))*(1-z[pos_xl,0]))*ztemp1 + (1-x[pos_xl,0])*(u[pos_xl+nz,0]-u[pos_xl,0])/dx-theta*(1-z[pos_xl,0])\n",
    "    selltemp = ((-alpha-tau+tau*x[pos_xl,0])*zh[pos_xl,0]+(1-z[pos_xl,0]))*ztemp2 - (alpha+tau-tau*x[pos_xl,0])*(1-z[pos_xl,0])\n",
    "    Ibuy[pos_xl,0] =  buytemp>0\n",
    "    Isell[pos_xl,0] = selltemp>0\n",
    "    f[pos_xl,0] = -1*unew[pos_xl,0]*invdt -r-(1-z[pos_xl,0])*(mu-r-(1-gamma)/2*sgs*(1-z[pos_xl,0]))+beta/gamma-1/gamma*np.sign(consum)*np.abs(consum)**gamma+consum*np.exp(u[pos_xl,0])-np.sign(consum)*np.abs(consum)**gamma*u[pos_xl,0]+PN*Ibuy[pos_xl,0]*theta*(1-z[pos_xl,0]) + PN*Isell[pos_xl,0]*(alpha+tau-tau*x[pos_xl,0])*(1-z[pos_xl,0])+(gamma<0)*gamma*sgs*zs[pos_xl,0]/2*zs[pos_xl,0]*ztemp1**2 +(gamma>0)*gamma*sgs*zs[pos_xl,0]/2*zs[pos_xl,0]*ztemp2**2\n",
    "#x = xup; x=xup&z=zlow; at position [l-nz+1:l]\n",
    "    ncoefi1j0 = ncoefi1j0+PN*Isell*((-1*alpha-tau+tau*x)*zh+(1-z))/dz\n",
    "    ncoef1ij0 = ncoef1ij0+PN*Ibuy*(1+theta*(1-z))*(1-z)/dz\n",
    "    ncoefi0j1 = ncoefi0j1+PN*Ibuy*((1-x)>0)*(1-x)/dx\n",
    "    ncoefi01j = ncoefi01j-PN*Ibuy*((1-x)<0)*(1-x)/dx\n",
    "    ncoefi0j0 = ncoefi0j0- ncoefi1j0 -ncoef1ij0 -ncoefi0j1 -ncoefi01j\n",
    "    # z=zup; x=xup&z=zup\n",
    "    pos_xuzu =np.arange(2,nx+1)*nz-1\n",
    "    Ibuy[pos_xuzu,0] = 1\n",
    "    f[pos_xuzu,0] = 0\n",
    "    ncoefi0j0[pos_xuzu,0] = -1*PN/dz \n",
    "    ncoefi01j[pos_xuzu,0]= PN/dz\n",
    "    pos_zu=nz-1\n",
    "    Ibuy[pos_zu,0]=1\n",
    "    f[pos_zu,0] = 0\n",
    "    ncoefi0j0[pos_zu,0] = -1*PN/dz\n",
    "    ncoef1ij0[pos_zu,0]= PN/dz\n",
    "    #x = xup; x=xup&z=zlow; at position [l-nz+1:l]\n",
    "    pos_xuzl = np.arange(l-nz,l-1)\n",
    "    Isell[pos_xuzl,0] = 1\n",
    "    ncoefi0j0[pos_xuzl,0] = -1*PN/dx \n",
    "    ncoefi01j[pos_xuzl,0]= PN/dx\n",
    "    f[pos_xuzl,0] = -1*PN*tau*(1-z[pos_xuzl,0])\n",
    "     #build M-matrix\n",
    "    p = np.arange(0,l)\n",
    "    M = sparse.coo_matrix(((coefi0j0+ncoefi0j0)[:,0],(p,p)),shape=(l,l))\n",
    "    p = np.arange(0,l-1)\n",
    "    M = M+sparse.coo_matrix((coefi1j0[0:l-1,0]+ncoefi1j0[0:l-1,0],(p,p+1)),shape=(l,l))\n",
    "    M = M+sparse.coo_matrix((coef1ij0[1:l,0]+ncoef1ij0[1:l,0],(p+1,p)),shape=(l,l))\n",
    "    p = np.arange(0, l-nz)\n",
    "    M = M+sparse.coo_matrix((coefi0j1[0:l-nz,0]+ncoefi0j1[0:l-nz,0],(p,p+nz)),shape=(l,l))\n",
    "    M = M+sparse.coo_matrix((coefi01j[nz:l,0]+ncoefi01j[nz:l,0],(p+nz,p)),shape=(l,l))\n",
    "    p = np.arange(0,l-(nz+1))\n",
    "    M = M+sparse.coo_matrix((coefi1j1[0:l-(nz+1),0],(p,p+nz+1)),shape=(l,l))\n",
    "    M = M+sparse.coo_matrix((coef1i1j[nz+1:l,0],(p+nz+1,p)),shape=(l,l))\n",
    "    M=M.tocsc()\n",
    "    # solve for Mu=f\n",
    "    u =sparse.linalg.spsolve(M,f)\n",
    "    u=np.expand_dims(u,axis=1)\n",
    "# relative error using m2norm\n",
    "    diff = u - uold\n",
    "    num = np.linalg.norm(diff)\n",
    "    deno=np.linalg.norm(uold)\n",
    "    rel =num/deno\n",
    "    if count%50==0:\n",
    "        print('count={},error={}'.format(count,rel))\n",
    "    if rel<=tol:\n",
    "        print('count={},error={}'.format(count,rel))\n",
    "        break\n",
    "    elif count>=30000:\n",
    "        print('not converge,error={}'.format(rel))\n",
    "        break"
   ]
  },
  {
   "cell_type": "code",
   "execution_count": 24,
   "metadata": {},
   "outputs": [],
   "source": [
    "i=np.arange(0,nz)\n",
    "Initialvalue=np.max(u[nz*100+i,0])\n",
    "Merton=math.log(bb**(-1+gamma))/gamma\n",
    "Mertonline=(mu-r)/(1-gamma)/sigma**2"
   ]
  },
  {
   "cell_type": "code",
   "execution_count": 25,
   "metadata": {},
   "outputs": [],
   "source": [
    "sellboundary = np.zeros(nx)\n",
    "buyboundary = np.zeros(nx)"
   ]
  },
  {
   "cell_type": "code",
   "execution_count": 28,
   "metadata": {},
   "outputs": [],
   "source": [
    "for ii in range(nx):\n",
    "    idx = np.arange(ii*nz,(ii+1)*nz-1)\n",
    "    sellboundary[ii] = np.sum(Isell[idx,0])-1\n",
    "    buyboundary[ii] = nz + 1-sum(Ibuy[idx,0])\n",
    " "
   ]
  },
  {
   "cell_type": "code",
   "execution_count": 29,
   "metadata": {},
   "outputs": [],
   "source": [
    "sellboundary = sellboundary/nz * (zup-zlow)+zlow\n",
    "buyboundary = buyboundary/nz*(zup-zlow)+zlow"
   ]
  },
  {
   "cell_type": "code",
   "execution_count": 30,
   "metadata": {},
   "outputs": [],
   "source": [
    "EWL=1-bb**((1-gamma)/gamma)*np.exp(Initialvalue)\n",
    "EWL2=1-1/(1-EWL)*(bb/bb0)**((1-gamma)/gamma)"
   ]
  },
  {
   "cell_type": "code",
   "execution_count": 34,
   "metadata": {},
   "outputs": [],
   "source": [
    "xb=np.arange(xlow,xup+dx,dx)"
   ]
  },
  {
   "cell_type": "code",
   "execution_count": 39,
   "metadata": {},
   "outputs": [
    {
     "data": {
      "image/png": "[encoded data removed]",
      "text/plain": [
       "<Figure size 432x288 with 1 Axes>"
      ]
     },
     "metadata": {
      "needs_background": "light"
     },
     "output_type": "display_data"
    }
   ],
   "source": [
    "plt.plot(xb,(1-sellboundary)/(sellboundary+(1-tau*(1-xb))*(1-sellboundary)),'r',label='sell boundary')\n",
    "plt.plot(xb,(1-buyboundary)/(buyboundary+(1-tau*(1-xb))*(1-buyboundary)),'g',label='buy boundary')\n",
    "plt.legend()\n",
    "plt.xlabel('xi')\n",
    "plt.ylabel('b')\n",
    "plt.show()"
   ]
  },
  {
   "cell_type": "code",
   "execution_count": null,
   "metadata": {},
   "outputs": [],
   "source": []
  }
 ],
 "metadata": {
  "kernelspec": {
   "display_name": "Python 3",
   "language": "python",
   "name": "python3"
  },
  "language_info": {
   "codemirror_mode": {
    "name": "ipython",
    "version": 3
   },
   "file_extension": ".py",
   "mimetype": "text/x-python",
   "name": "python",
   "nbconvert_exporter": "python",
   "pygments_lexer": "ipython3",
   "version": "3.7.1"
  }
 },
 "nbformat": 4,
 "nbformat_minor": 2
}
